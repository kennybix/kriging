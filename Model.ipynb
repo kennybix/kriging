{
 "cells": [
  {
   "cell_type": "markdown",
   "metadata": {},
   "source": [
    "# Sampling Plan"
   ]
  },
  {
   "cell_type": "code",
   "execution_count": 20,
   "metadata": {
    "collapsed": true
   },
   "outputs": [
    {
     "ename": "SyntaxError",
     "evalue": "invalid syntax (<ipython-input-20-1e4478020a07>, line 12)",
     "output_type": "error",
     "traceback": [
      "\u001b[0;36m  File \u001b[0;32m\"<ipython-input-20-1e4478020a07>\"\u001b[0;36m, line \u001b[0;32m12\u001b[0m\n\u001b[0;31m    if *kwargs < 3:  # if only two arguments are passed into the method, then no egde\u001b[0m\n\u001b[0m       ^\u001b[0m\n\u001b[0;31mSyntaxError\u001b[0m\u001b[0;31m:\u001b[0m invalid syntax\n"
     ]
    }
   ],
   "source": [
    "import numpy as np\n",
    "import scipy\n",
    "import math as m\n",
    "\n",
    "\n",
    "class samplingplan():\n",
    "    def __init__(self):\n",
    "        self.samplingplan = []\n",
    "    \n",
    "    \n",
    "    def rlh(n,k,Edges=0):\n",
    "      #  if *kwargs < 3:  # if only two arguments are passed into the method, then no egde\n",
    "       #     Edges = 0\n",
    "        \n",
    "        X = np.zeros(n,k)\n",
    "        \n",
    "        for i in range(1,k):\n",
    "            X(:,i) = np.transpose(np.random.permutation(np.arange(1,n+1,1))\n",
    "        \n",
    "        if Edges == 1:\n",
    "            X = (X-1)/(n-1)\n",
    "        else\n",
    "            X = (X-0.5)/n\n",
    "        return X     \n",
    "                                  \n"
   ]
  },
  {
   "cell_type": "code",
   "execution_count": 68,
   "metadata": {},
   "outputs": [
    {
     "ename": "SyntaxError",
     "evalue": "invalid syntax (<ipython-input-68-e250bbd514d0>, line 22)",
     "output_type": "error",
     "traceback": [
      "\u001b[0;36m  File \u001b[0;32m\"<ipython-input-68-e250bbd514d0>\"\u001b[0;36m, line \u001b[0;32m22\u001b[0m\n\u001b[0;31m    column = [column;np.ones(np.prod(range(q(j+1),k)),1)*one_d_slice(1)]\u001b[0m\n\u001b[0m                    ^\u001b[0m\n\u001b[0;31mSyntaxError\u001b[0m\u001b[0;31m:\u001b[0m invalid syntax\n"
     ]
    }
   ],
   "source": [
    "def fullfactorial(q,Edges=1):\n",
    "    \n",
    "    if(min(q)):\n",
    "        raise Exception('You must have at least two points per dimension')\n",
    "        \n",
    "    n = np.prod(q)\n",
    "    k = np.length(q)\n",
    "    X = np.zeros(n,k)\n",
    "    \n",
    "    q[k+1] = 1\n",
    "    \n",
    "    for j in range(1,k):\n",
    "        if Edges==1:\n",
    "            one_d_slice = map(lambda x: x/10.0, range(0, (10/q(j) -1)+1, 10))\n",
    "        else:\n",
    "            one_d_slice = map(lambda x: x/10.0, range(10/q(j)/2, (10/q(j))+1, 10))\n",
    "            \n",
    "        column = []\n",
    "        \n",
    "        while np.length(column) < n:\n",
    "            for l in range(1,q(j)):\n",
    "                column = [column;np.ones(np.prod(range(q(j+1),k)),1)*one_d_slice(1)]\n",
    "        X(:,J)=column\n",
    "        return X\n",
    "    "
   ]
  },
  {
   "cell_type": "code",
   "execution_count": 71,
   "metadata": {
    "scrolled": false
   },
   "outputs": [
    {
     "ename": "SyntaxError",
     "evalue": "can't assign to function call (<ipython-input-71-488e4a5d3863>, line 10)",
     "output_type": "error",
     "traceback": [
      "\u001b[0;36m  File \u001b[0;32m\"<ipython-input-71-488e4a5d3863>\"\u001b[0;36m, line \u001b[0;32m10\u001b[0m\n\u001b[0;31m    d((i-1)*n-(i-1)*i/2+j-i)= np.linalg.norm(X[i,:]-X[j,:],p)\u001b[0m\n\u001b[0m    ^\u001b[0m\n\u001b[0;31mSyntaxError\u001b[0m\u001b[0;31m:\u001b[0m can't assign to function call\n"
     ]
    }
   ],
   "source": [
    "import numpy as np\n",
    "\n",
    "def jd(self,X,p=1):\n",
    "    \n",
    "    n = np.size(X[:,1]) #the number of rows in X in the first column\n",
    "    d = np.zeros((n*(n-1)//2))\n",
    "    \n",
    "    for i in range(1,n-1):\n",
    "        for j in range(i+1,n):\n",
    "            d((i-1)*n-(i-1)*i/2+j-i)= np.linalg.norm(X[i,:]-X[j,:],p)\n",
    "    distinct_d = np.unique(d)\n",
    "    \n",
    "    J = np.zeros(np.size(distinct_d))\n",
    "    \n",
    "    for i in range(1,np.length(distinct_d)):\n",
    "        J(i) = np.sum(ismember(d,distinct_d(i)))\n",
    "        \n",
    "    return J,distinct_d\n",
    "    \n",
    "    \n",
    "def ismember(a, b):\n",
    "    bind = {}\n",
    "    for i, elt in enumerate(b):\n",
    "        if elt not in bind:\n",
    "            bind[elt] = i\n",
    "    return [bind.get(itm, None) for itm in a] \n",
    "    "
   ]
  },
  {
   "cell_type": "code",
   "execution_count": 3,
   "metadata": {},
   "outputs": [],
   "source": [
    "\n",
    "\n",
    "\n",
    "def halton_sequence(size, dim):\n",
    "    seq = []\n",
    "    primeGen = next_prime()\n",
    "    next(primeGen)\n",
    "    for d in range(dim):\n",
    "        base = next(primeGen)\n",
    "        seq.append([vdc(i, base) for i in range(size)])\n",
    "    return seq\n",
    "\n",
    "def vdc(n, base=2):\n",
    "    vdc, denom = 0, 1\n",
    "    while n:\n",
    "        denom *= base\n",
    "        n, remainder = divmod(n, base)\n",
    "        vdc += remainder/float(denom)\n",
    "    return vdc\n",
    "\n",
    "def next_prime():\n",
    "    def is_prime(num):\n",
    "        \"Checks if num is a prime value\"\n",
    "        for i in range(2,int(num**0.5)+1):\n",
    "            if(num % i)==0: return False\n",
    "        return True\n",
    "\n",
    "    prime = 3\n",
    "    while(1):\n",
    "        if is_prime(prime):\n",
    "            yield prime\n",
    "        prime += 2"
   ]
  },
  {
   "cell_type": "code",
   "execution_count": 4,
   "metadata": {},
   "outputs": [
    {
     "data": {
      "text/plain": [
       "[[0,\n",
       "  0.2,\n",
       "  0.4,\n",
       "  0.6,\n",
       "  0.8,\n",
       "  0.04,\n",
       "  0.24000000000000002,\n",
       "  0.44,\n",
       "  0.64,\n",
       "  0.8400000000000001],\n",
       " [0,\n",
       "  0.14285714285714285,\n",
       "  0.2857142857142857,\n",
       "  0.42857142857142855,\n",
       "  0.5714285714285714,\n",
       "  0.7142857142857143,\n",
       "  0.8571428571428571,\n",
       "  0.02040816326530612,\n",
       "  0.16326530612244897,\n",
       "  0.30612244897959184],\n",
       " [0,\n",
       "  0.09090909090909091,\n",
       "  0.18181818181818182,\n",
       "  0.2727272727272727,\n",
       "  0.36363636363636365,\n",
       "  0.45454545454545453,\n",
       "  0.5454545454545454,\n",
       "  0.6363636363636364,\n",
       "  0.7272727272727273,\n",
       "  0.8181818181818182]]"
      ]
     },
     "execution_count": 4,
     "metadata": {},
     "output_type": "execute_result"
    }
   ],
   "source": [
    "halton_sequence(10,3)\n"
   ]
  },
  {
   "cell_type": "code",
   "execution_count": 11,
   "metadata": {},
   "outputs": [
    {
     "name": "stdout",
     "output_type": "stream",
     "text": [
      "0\n",
      "1\n",
      "2\n"
     ]
    }
   ],
   "source": [
    "for i in a:\n",
    "    print(a[i])"
   ]
  },
  {
   "cell_type": "code",
   "execution_count": 18,
   "metadata": {},
   "outputs": [
    {
     "data": {
      "text/plain": [
       "array([4, 2, 5, 1, 8, 9, 0, 7, 3, 6])"
      ]
     },
     "execution_count": 18,
     "metadata": {},
     "output_type": "execute_result"
    }
   ],
   "source": [
    "import numpy as np\n",
    "np.random.permutation(10)\n"
   ]
  },
  {
   "cell_type": "code",
   "execution_count": 24,
   "metadata": {},
   "outputs": [
    {
     "data": {
      "text/plain": [
       "array([ 5,  6,  7,  4,  3,  1,  9,  8,  2, 10])"
      ]
     },
     "execution_count": 24,
     "metadata": {},
     "output_type": "execute_result"
    }
   ],
   "source": [
    "import numpy as np\n",
    "\n",
    "np.random.permutation(np.arange(1,11,1))\n"
   ]
  },
  {
   "cell_type": "code",
   "execution_count": 31,
   "metadata": {},
   "outputs": [
    {
     "data": {
      "text/plain": [
       "array([ 0.        ,  0.11111111,  0.22222222,  0.33333333,  0.44444444,\n",
       "        0.55555556,  0.66666667,  0.77777778,  0.88888889,  1.        ])"
      ]
     },
     "execution_count": 31,
     "metadata": {},
     "output_type": "execute_result"
    }
   ],
   "source": [
    "import numpy as np\n",
    "np.linspace(0,1,10)"
   ]
  },
  {
   "cell_type": "code",
   "execution_count": 46,
   "metadata": {},
   "outputs": [
    {
     "ename": "TypeError",
     "evalue": "'generator' object is not subscriptable",
     "output_type": "error",
     "traceback": [
      "\u001b[0;31m---------------------------------------------------------------------------\u001b[0m",
      "\u001b[0;31mTypeError\u001b[0m                                 Traceback (most recent call last)",
      "\u001b[0;32m<ipython-input-46-5e2b30838d5f>\u001b[0m in \u001b[0;36m<module>\u001b[0;34m\u001b[0m\n\u001b[1;32m      6\u001b[0m \u001b[0ma\u001b[0m\u001b[0;34m=\u001b[0m \u001b[0mfrange\u001b[0m \u001b[0;34m(\u001b[0m\u001b[0;36m0\u001b[0m\u001b[0;34m,\u001b[0m\u001b[0;36m1\u001b[0m\u001b[0;34m,\u001b[0m\u001b[0;36m0.1\u001b[0m\u001b[0;34m)\u001b[0m\u001b[0;34m\u001b[0m\u001b[0m\n\u001b[1;32m      7\u001b[0m \u001b[0;34m\u001b[0m\u001b[0m\n\u001b[0;32m----> 8\u001b[0;31m \u001b[0mprint\u001b[0m \u001b[0;34m(\u001b[0m\u001b[0ma\u001b[0m\u001b[0;34m[\u001b[0m\u001b[0;36m2\u001b[0m\u001b[0;34m]\u001b[0m\u001b[0;34m)\u001b[0m\u001b[0;34m\u001b[0m\u001b[0m\n\u001b[0m",
      "\u001b[0;31mTypeError\u001b[0m: 'generator' object is not subscriptable"
     ]
    }
   ],
   "source": [
    "def frange(x, y, jump):\n",
    "  while x < y:\n",
    "    yield x\n",
    "    x += jump\n",
    "a = list(a)\n",
    "a= frange (0,1,0.1)\n",
    "\n",
    "print (a[2])"
   ]
  },
  {
   "cell_type": "code",
   "execution_count": 54,
   "metadata": {},
   "outputs": [
    {
     "name": "stdout",
     "output_type": "stream",
     "text": [
      "[0.0, 0.1, 0.2, 0.3, 0.4, 0.5, 0.6, 0.7, 0.8, 0.9, 1.0]\n"
     ]
    }
   ],
   "source": [
    "a=map(lambda x: x/10.0, range(0, 11, 1))\n",
    "print(list(a))"
   ]
  },
  {
   "cell_type": "code",
   "execution_count": 64,
   "metadata": {},
   "outputs": [
    {
     "data": {
      "text/plain": [
       "array([ 1.,  1.,  1.,  1.,  1.])"
      ]
     },
     "execution_count": 64,
     "metadata": {},
     "output_type": "execute_result"
    }
   ],
   "source": [
    "import numpy as np\n",
    "np.ones(5,'float',1)"
   ]
  },
  {
   "cell_type": "code",
   "execution_count": null,
   "metadata": {},
   "outputs": [],
   "source": []
  }
 ],
 "metadata": {
  "kernelspec": {
   "display_name": "Python 3",
   "language": "python",
   "name": "python3"
  },
  "language_info": {
   "codemirror_mode": {
    "name": "ipython",
    "version": 3
   },
   "file_extension": ".py",
   "mimetype": "text/x-python",
   "name": "python",
   "nbconvert_exporter": "python",
   "pygments_lexer": "ipython3",
   "version": "3.6.5"
  }
 },
 "nbformat": 4,
 "nbformat_minor": 2
}
